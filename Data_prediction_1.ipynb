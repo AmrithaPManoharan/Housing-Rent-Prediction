{
  "nbformat": 4,
  "nbformat_minor": 0,
  "metadata": {
    "colab": {
      "provenance": []
    },
    "kernelspec": {
      "name": "python3",
      "display_name": "Python 3"
    },
    "language_info": {
      "name": "python"
    }
  },
  "cells": [
    {
      "cell_type": "markdown",
      "source": [
        "Import Data"
      ],
      "metadata": {
        "id": "VtUpvCN827EN"
      }
    },
    {
      "cell_type": "code",
      "execution_count": null,
      "metadata": {
        "id": "xpRnj8d22vIJ"
      },
      "outputs": [],
      "source": [
        "import pandas as pd\n",
        "import numpy as np"
      ]
    },
    {
      "cell_type": "code",
      "source": [
        "df=pd.read_csv(\"housing_cleaned_pred_1.csv\")"
      ],
      "metadata": {
        "id": "0RM05WnT24rl"
      },
      "execution_count": null,
      "outputs": []
    },
    {
      "cell_type": "code",
      "source": [
        "df.describe()"
      ],
      "metadata": {
        "colab": {
          "base_uri": "https://localhost:8080/",
          "height": 394
        },
        "id": "wPont6WV3HpE",
        "outputId": "c7ebceb8-c3a2-4750-bd75-531bce0a7768"
      },
      "execution_count": null,
      "outputs": [
        {
          "output_type": "execute_result",
          "data": {
            "text/plain": [
              "                 id        region         price          type        sqfeet  \\\n",
              "count  4.703900e+04  47039.000000  47039.000000  47039.000000  47039.000000   \n",
              "mean   7.040810e+09    143.276239   1214.324433      2.188567   1002.945428   \n",
              "std    8.794933e+06     89.047721    571.171562      2.844270    340.575102   \n",
              "min    7.004589e+09      1.000000    151.000000      1.000000    200.000000   \n",
              "25%    7.035854e+09     62.000000    825.000000      1.000000    770.000000   \n",
              "50%    7.042985e+09    143.000000   1070.000000      1.000000    959.000000   \n",
              "75%    7.048321e+09    220.000000   1450.000000      1.000000   1158.000000   \n",
              "max    7.051258e+09    299.000000   4519.000000     12.000000   3023.000000   \n",
              "\n",
              "               beds         baths  cats_allowed  dogs_allowed  \\\n",
              "count  47039.000000  47039.000000  47039.000000  47039.000000   \n",
              "mean       1.937541      1.445439      0.715343      0.695232   \n",
              "std        0.812553      0.555361      0.451256      0.460314   \n",
              "min        1.000000      1.000000      0.000000      0.000000   \n",
              "25%        1.000000      1.000000      0.000000      0.000000   \n",
              "50%        2.000000      1.000000      1.000000      1.000000   \n",
              "75%        2.000000      2.000000      1.000000      1.000000   \n",
              "max        8.000000      6.000000      1.000000      1.000000   \n",
              "\n",
              "       smoking_allowed  ...  parking_options           lat          long  \\\n",
              "count     47039.000000  ...     47039.000000  47039.000000  47039.000000   \n",
              "mean          0.738387  ...         4.865367     37.185433    -92.343807   \n",
              "std           0.439517  ...         1.672430      5.635879     16.244984   \n",
              "min           0.000000  ...         2.000000     19.589300   -159.496000   \n",
              "25%           0.000000  ...         3.000000     33.487600   -101.297000   \n",
              "50%           1.000000  ...         6.000000     37.974400    -86.266100   \n",
              "75%           1.000000  ...         6.000000     41.176200    -81.271800   \n",
              "max           1.000000  ...         8.000000     64.952000    -70.048300   \n",
              "\n",
              "              state           ppa           bba           apb           b_a  \\\n",
              "count  47039.000000  47039.000000  47039.000000  47039.000000  47039.000000   \n",
              "mean      16.387870      1.279600      0.001931    559.255060   2152.390421   \n",
              "std        9.983232      0.619213      0.000536    162.274922   1630.102113   \n",
              "min        1.000000      0.125000      0.000417    200.000000    200.000000   \n",
              "25%        8.000000      0.882353      0.001537    445.500000    806.000000   \n",
              "50%       15.000000      1.119048      0.001905    525.000000   1904.000000   \n",
              "75%       24.000000      1.511050      0.002245    650.500000   2500.000000   \n",
              "max       36.000000     10.371287      0.005000   2400.000000  21272.000000   \n",
              "\n",
              "                b_b         apbth  \n",
              "count  47039.000000  47039.000000  \n",
              "mean       3.072727   1562.765556  \n",
              "std        2.289593   1076.627646  \n",
              "min        1.000000    200.000000  \n",
              "25%        1.000000    775.000000  \n",
              "50%        2.000000   1036.000000  \n",
              "75%        4.000000   2200.000000  \n",
              "max       36.000000  15000.000000  \n",
              "\n",
              "[8 rows x 24 columns]"
            ],
            "text/html": [
              "\n",
              "  <div id=\"df-2f8a03d2-a2bd-4158-a1fd-6e85dca1d59a\">\n",
              "    <div class=\"colab-df-container\">\n",
              "      <div>\n",
              "<style scoped>\n",
              "    .dataframe tbody tr th:only-of-type {\n",
              "        vertical-align: middle;\n",
              "    }\n",
              "\n",
              "    .dataframe tbody tr th {\n",
              "        vertical-align: top;\n",
              "    }\n",
              "\n",
              "    .dataframe thead th {\n",
              "        text-align: right;\n",
              "    }\n",
              "</style>\n",
              "<table border=\"1\" class=\"dataframe\">\n",
              "  <thead>\n",
              "    <tr style=\"text-align: right;\">\n",
              "      <th></th>\n",
              "      <th>id</th>\n",
              "      <th>region</th>\n",
              "      <th>price</th>\n",
              "      <th>type</th>\n",
              "      <th>sqfeet</th>\n",
              "      <th>beds</th>\n",
              "      <th>baths</th>\n",
              "      <th>cats_allowed</th>\n",
              "      <th>dogs_allowed</th>\n",
              "      <th>smoking_allowed</th>\n",
              "      <th>...</th>\n",
              "      <th>parking_options</th>\n",
              "      <th>lat</th>\n",
              "      <th>long</th>\n",
              "      <th>state</th>\n",
              "      <th>ppa</th>\n",
              "      <th>bba</th>\n",
              "      <th>apb</th>\n",
              "      <th>b_a</th>\n",
              "      <th>b_b</th>\n",
              "      <th>apbth</th>\n",
              "    </tr>\n",
              "  </thead>\n",
              "  <tbody>\n",
              "    <tr>\n",
              "      <th>count</th>\n",
              "      <td>4.703900e+04</td>\n",
              "      <td>47039.000000</td>\n",
              "      <td>47039.000000</td>\n",
              "      <td>47039.000000</td>\n",
              "      <td>47039.000000</td>\n",
              "      <td>47039.000000</td>\n",
              "      <td>47039.000000</td>\n",
              "      <td>47039.000000</td>\n",
              "      <td>47039.000000</td>\n",
              "      <td>47039.000000</td>\n",
              "      <td>...</td>\n",
              "      <td>47039.000000</td>\n",
              "      <td>47039.000000</td>\n",
              "      <td>47039.000000</td>\n",
              "      <td>47039.000000</td>\n",
              "      <td>47039.000000</td>\n",
              "      <td>47039.000000</td>\n",
              "      <td>47039.000000</td>\n",
              "      <td>47039.000000</td>\n",
              "      <td>47039.000000</td>\n",
              "      <td>47039.000000</td>\n",
              "    </tr>\n",
              "    <tr>\n",
              "      <th>mean</th>\n",
              "      <td>7.040810e+09</td>\n",
              "      <td>143.276239</td>\n",
              "      <td>1214.324433</td>\n",
              "      <td>2.188567</td>\n",
              "      <td>1002.945428</td>\n",
              "      <td>1.937541</td>\n",
              "      <td>1.445439</td>\n",
              "      <td>0.715343</td>\n",
              "      <td>0.695232</td>\n",
              "      <td>0.738387</td>\n",
              "      <td>...</td>\n",
              "      <td>4.865367</td>\n",
              "      <td>37.185433</td>\n",
              "      <td>-92.343807</td>\n",
              "      <td>16.387870</td>\n",
              "      <td>1.279600</td>\n",
              "      <td>0.001931</td>\n",
              "      <td>559.255060</td>\n",
              "      <td>2152.390421</td>\n",
              "      <td>3.072727</td>\n",
              "      <td>1562.765556</td>\n",
              "    </tr>\n",
              "    <tr>\n",
              "      <th>std</th>\n",
              "      <td>8.794933e+06</td>\n",
              "      <td>89.047721</td>\n",
              "      <td>571.171562</td>\n",
              "      <td>2.844270</td>\n",
              "      <td>340.575102</td>\n",
              "      <td>0.812553</td>\n",
              "      <td>0.555361</td>\n",
              "      <td>0.451256</td>\n",
              "      <td>0.460314</td>\n",
              "      <td>0.439517</td>\n",
              "      <td>...</td>\n",
              "      <td>1.672430</td>\n",
              "      <td>5.635879</td>\n",
              "      <td>16.244984</td>\n",
              "      <td>9.983232</td>\n",
              "      <td>0.619213</td>\n",
              "      <td>0.000536</td>\n",
              "      <td>162.274922</td>\n",
              "      <td>1630.102113</td>\n",
              "      <td>2.289593</td>\n",
              "      <td>1076.627646</td>\n",
              "    </tr>\n",
              "    <tr>\n",
              "      <th>min</th>\n",
              "      <td>7.004589e+09</td>\n",
              "      <td>1.000000</td>\n",
              "      <td>151.000000</td>\n",
              "      <td>1.000000</td>\n",
              "      <td>200.000000</td>\n",
              "      <td>1.000000</td>\n",
              "      <td>1.000000</td>\n",
              "      <td>0.000000</td>\n",
              "      <td>0.000000</td>\n",
              "      <td>0.000000</td>\n",
              "      <td>...</td>\n",
              "      <td>2.000000</td>\n",
              "      <td>19.589300</td>\n",
              "      <td>-159.496000</td>\n",
              "      <td>1.000000</td>\n",
              "      <td>0.125000</td>\n",
              "      <td>0.000417</td>\n",
              "      <td>200.000000</td>\n",
              "      <td>200.000000</td>\n",
              "      <td>1.000000</td>\n",
              "      <td>200.000000</td>\n",
              "    </tr>\n",
              "    <tr>\n",
              "      <th>25%</th>\n",
              "      <td>7.035854e+09</td>\n",
              "      <td>62.000000</td>\n",
              "      <td>825.000000</td>\n",
              "      <td>1.000000</td>\n",
              "      <td>770.000000</td>\n",
              "      <td>1.000000</td>\n",
              "      <td>1.000000</td>\n",
              "      <td>0.000000</td>\n",
              "      <td>0.000000</td>\n",
              "      <td>0.000000</td>\n",
              "      <td>...</td>\n",
              "      <td>3.000000</td>\n",
              "      <td>33.487600</td>\n",
              "      <td>-101.297000</td>\n",
              "      <td>8.000000</td>\n",
              "      <td>0.882353</td>\n",
              "      <td>0.001537</td>\n",
              "      <td>445.500000</td>\n",
              "      <td>806.000000</td>\n",
              "      <td>1.000000</td>\n",
              "      <td>775.000000</td>\n",
              "    </tr>\n",
              "    <tr>\n",
              "      <th>50%</th>\n",
              "      <td>7.042985e+09</td>\n",
              "      <td>143.000000</td>\n",
              "      <td>1070.000000</td>\n",
              "      <td>1.000000</td>\n",
              "      <td>959.000000</td>\n",
              "      <td>2.000000</td>\n",
              "      <td>1.000000</td>\n",
              "      <td>1.000000</td>\n",
              "      <td>1.000000</td>\n",
              "      <td>1.000000</td>\n",
              "      <td>...</td>\n",
              "      <td>6.000000</td>\n",
              "      <td>37.974400</td>\n",
              "      <td>-86.266100</td>\n",
              "      <td>15.000000</td>\n",
              "      <td>1.119048</td>\n",
              "      <td>0.001905</td>\n",
              "      <td>525.000000</td>\n",
              "      <td>1904.000000</td>\n",
              "      <td>2.000000</td>\n",
              "      <td>1036.000000</td>\n",
              "    </tr>\n",
              "    <tr>\n",
              "      <th>75%</th>\n",
              "      <td>7.048321e+09</td>\n",
              "      <td>220.000000</td>\n",
              "      <td>1450.000000</td>\n",
              "      <td>1.000000</td>\n",
              "      <td>1158.000000</td>\n",
              "      <td>2.000000</td>\n",
              "      <td>2.000000</td>\n",
              "      <td>1.000000</td>\n",
              "      <td>1.000000</td>\n",
              "      <td>1.000000</td>\n",
              "      <td>...</td>\n",
              "      <td>6.000000</td>\n",
              "      <td>41.176200</td>\n",
              "      <td>-81.271800</td>\n",
              "      <td>24.000000</td>\n",
              "      <td>1.511050</td>\n",
              "      <td>0.002245</td>\n",
              "      <td>650.500000</td>\n",
              "      <td>2500.000000</td>\n",
              "      <td>4.000000</td>\n",
              "      <td>2200.000000</td>\n",
              "    </tr>\n",
              "    <tr>\n",
              "      <th>max</th>\n",
              "      <td>7.051258e+09</td>\n",
              "      <td>299.000000</td>\n",
              "      <td>4519.000000</td>\n",
              "      <td>12.000000</td>\n",
              "      <td>3023.000000</td>\n",
              "      <td>8.000000</td>\n",
              "      <td>6.000000</td>\n",
              "      <td>1.000000</td>\n",
              "      <td>1.000000</td>\n",
              "      <td>1.000000</td>\n",
              "      <td>...</td>\n",
              "      <td>8.000000</td>\n",
              "      <td>64.952000</td>\n",
              "      <td>-70.048300</td>\n",
              "      <td>36.000000</td>\n",
              "      <td>10.371287</td>\n",
              "      <td>0.005000</td>\n",
              "      <td>2400.000000</td>\n",
              "      <td>21272.000000</td>\n",
              "      <td>36.000000</td>\n",
              "      <td>15000.000000</td>\n",
              "    </tr>\n",
              "  </tbody>\n",
              "</table>\n",
              "<p>8 rows × 24 columns</p>\n",
              "</div>\n",
              "      <button class=\"colab-df-convert\" onclick=\"convertToInteractive('df-2f8a03d2-a2bd-4158-a1fd-6e85dca1d59a')\"\n",
              "              title=\"Convert this dataframe to an interactive table.\"\n",
              "              style=\"display:none;\">\n",
              "        \n",
              "  <svg xmlns=\"http://www.w3.org/2000/svg\" height=\"24px\"viewBox=\"0 0 24 24\"\n",
              "       width=\"24px\">\n",
              "    <path d=\"M0 0h24v24H0V0z\" fill=\"none\"/>\n",
              "    <path d=\"M18.56 5.44l.94 2.06.94-2.06 2.06-.94-2.06-.94-.94-2.06-.94 2.06-2.06.94zm-11 1L8.5 8.5l.94-2.06 2.06-.94-2.06-.94L8.5 2.5l-.94 2.06-2.06.94zm10 10l.94 2.06.94-2.06 2.06-.94-2.06-.94-.94-2.06-.94 2.06-2.06.94z\"/><path d=\"M17.41 7.96l-1.37-1.37c-.4-.4-.92-.59-1.43-.59-.52 0-1.04.2-1.43.59L10.3 9.45l-7.72 7.72c-.78.78-.78 2.05 0 2.83L4 21.41c.39.39.9.59 1.41.59.51 0 1.02-.2 1.41-.59l7.78-7.78 2.81-2.81c.8-.78.8-2.07 0-2.86zM5.41 20L4 18.59l7.72-7.72 1.47 1.35L5.41 20z\"/>\n",
              "  </svg>\n",
              "      </button>\n",
              "      \n",
              "  <style>\n",
              "    .colab-df-container {\n",
              "      display:flex;\n",
              "      flex-wrap:wrap;\n",
              "      gap: 12px;\n",
              "    }\n",
              "\n",
              "    .colab-df-convert {\n",
              "      background-color: #E8F0FE;\n",
              "      border: none;\n",
              "      border-radius: 50%;\n",
              "      cursor: pointer;\n",
              "      display: none;\n",
              "      fill: #1967D2;\n",
              "      height: 32px;\n",
              "      padding: 0 0 0 0;\n",
              "      width: 32px;\n",
              "    }\n",
              "\n",
              "    .colab-df-convert:hover {\n",
              "      background-color: #E2EBFA;\n",
              "      box-shadow: 0px 1px 2px rgba(60, 64, 67, 0.3), 0px 1px 3px 1px rgba(60, 64, 67, 0.15);\n",
              "      fill: #174EA6;\n",
              "    }\n",
              "\n",
              "    [theme=dark] .colab-df-convert {\n",
              "      background-color: #3B4455;\n",
              "      fill: #D2E3FC;\n",
              "    }\n",
              "\n",
              "    [theme=dark] .colab-df-convert:hover {\n",
              "      background-color: #434B5C;\n",
              "      box-shadow: 0px 1px 3px 1px rgba(0, 0, 0, 0.15);\n",
              "      filter: drop-shadow(0px 1px 2px rgba(0, 0, 0, 0.3));\n",
              "      fill: #FFFFFF;\n",
              "    }\n",
              "  </style>\n",
              "\n",
              "      <script>\n",
              "        const buttonEl =\n",
              "          document.querySelector('#df-2f8a03d2-a2bd-4158-a1fd-6e85dca1d59a button.colab-df-convert');\n",
              "        buttonEl.style.display =\n",
              "          google.colab.kernel.accessAllowed ? 'block' : 'none';\n",
              "\n",
              "        async function convertToInteractive(key) {\n",
              "          const element = document.querySelector('#df-2f8a03d2-a2bd-4158-a1fd-6e85dca1d59a');\n",
              "          const dataTable =\n",
              "            await google.colab.kernel.invokeFunction('convertToInteractive',\n",
              "                                                     [key], {});\n",
              "          if (!dataTable) return;\n",
              "\n",
              "          const docLinkHtml = 'Like what you see? Visit the ' +\n",
              "            '<a target=\"_blank\" href=https://colab.research.google.com/notebooks/data_table.ipynb>data table notebook</a>'\n",
              "            + ' to learn more about interactive tables.';\n",
              "          element.innerHTML = '';\n",
              "          dataTable['output_type'] = 'display_data';\n",
              "          await google.colab.output.renderOutput(dataTable, element);\n",
              "          const docLink = document.createElement('div');\n",
              "          docLink.innerHTML = docLinkHtml;\n",
              "          element.appendChild(docLink);\n",
              "        }\n",
              "      </script>\n",
              "    </div>\n",
              "  </div>\n",
              "  "
            ]
          },
          "metadata": {},
          "execution_count": 85
        }
      ]
    },
    {
      "cell_type": "markdown",
      "source": [
        "Correlation values of price"
      ],
      "metadata": {
        "id": "EjfQjHpm3lIP"
      }
    },
    {
      "cell_type": "code",
      "source": [
        "import seaborn as sns\n",
        "import matplotlib.pyplot as plt\n",
        "\n",
        "corr = df.corr()[['price']].sort_values(by='price', ascending=False)\n",
        "\n",
        "fig, ax = plt.subplots(figsize=(10,10)) \n",
        "sns.heatmap(corr, annot=True,cmap='YlOrBr', linewidths=.5)"
      ],
      "metadata": {
        "colab": {
          "base_uri": "https://localhost:8080/",
          "height": 612
        },
        "id": "O9L5C1ZM3ahX",
        "outputId": "2f95b7f4-5fd9-4119-dbd3-103a967fd56d"
      },
      "execution_count": null,
      "outputs": [
        {
          "output_type": "execute_result",
          "data": {
            "text/plain": [
              "<matplotlib.axes._subplots.AxesSubplot at 0x7f4497dcda00>"
            ]
          },
          "metadata": {},
          "execution_count": 86
        },
        {
          "output_type": "display_data",
          "data": {
            "text/plain": [
              "<Figure size 720x720 with 2 Axes>"
            ],
            "image/png": "[encoded data removed]"
          },
          "metadata": {
            "needs_background": "light"
          }
        }
      ]
    },
    {
      "cell_type": "markdown",
      "source": [
        "Linear Regression"
      ],
      "metadata": {
        "id": "Sxx3nEjp3Qao"
      }
    },
    {
      "cell_type": "code",
      "source": [
        "# 'ppa','sqfeet','apbth','laundry_options','b_a','baths','b_b',parking_options','long'\n",
        "\n",
        "x=df[['region', 'type', 'sqfeet', 'beds', 'baths', 'cats_allowed',\n",
        "       'dogs_allowed', 'smoking_allowed', 'wheelchair_access',\n",
        "       'electric_vehicle_charge', 'comes_furnished', 'laundry_options',\n",
        "       'parking_options', 'lat', 'long', 'state', 'bba', 'apb', 'b_a','b_b', 'apbth','ppa']] \n",
        "y=df[['price']]"
      ],
      "metadata": {
        "id": "_Smu0N-I3MCe"
      },
      "execution_count": null,
      "outputs": []
    },
    {
      "cell_type": "code",
      "source": [
        "#splitting data\n",
        "from sklearn.model_selection import train_test_split\n",
        "\n",
        "X_train, X_test, y_train, y_test = train_test_split(x, y, test_size=0.2, random_state=42) # 80% training and 20% test"
      ],
      "metadata": {
        "id": "AXoTnzN63tNU"
      },
      "execution_count": null,
      "outputs": []
    },
    {
      "cell_type": "code",
      "source": [
        "from sklearn.preprocessing import MinMaxScaler\n",
        "scaler = MinMaxScaler((0,1))\n",
        "X_train = scaler.fit_transform(X_train)\n",
        "X_test = scaler.transform(X_test)\n",
        "\n",
        "y_train = scaler.fit_transform(y_train)\n",
        "y_test = scaler.transform(y_test)"
      ],
      "metadata": {
        "id": "V7Fs8urwYxXP"
      },
      "execution_count": null,
      "outputs": []
    },
    {
      "cell_type": "code",
      "source": [
        "# LinearRegression object\n",
        "from sklearn.linear_model import LinearRegression\n",
        "l_reg = LinearRegression()\n",
        "\n",
        "# fitting\n",
        "l_reg.fit(X_train,y_train)"
      ],
      "metadata": {
        "colab": {
          "base_uri": "https://localhost:8080/"
        },
        "id": "zq-GAlAH316N",
        "outputId": "21e00444-8952-4c1a-fa2e-5d2b509e43de"
      },
      "execution_count": null,
      "outputs": [
        {
          "output_type": "execute_result",
          "data": {
            "text/plain": [
              "LinearRegression()"
            ]
          },
          "metadata": {},
          "execution_count": 90
        }
      ]
    },
    {
      "cell_type": "code",
      "source": [
        "y_pred =  l_reg.predict(X_test)"
      ],
      "metadata": {
        "id": "VDGFAvJT36VJ"
      },
      "execution_count": null,
      "outputs": []
    },
    {
      "cell_type": "code",
      "source": [
        "from sklearn.metrics import r2_score\n",
        "from sklearn.metrics import mean_squared_error\n",
        "\n",
        "# accuracy score \n",
        "\n",
        "score=r2_score(y_test,y_pred)\n",
        "print('accquracy = ',score)\n",
        "mse=mean_squared_error(y_test,y_pred)\n",
        "print('MSE = ',mse)\n",
        "from sklearn.metrics import mean_absolute_error \n",
        "print(\"MAE = \" + str(mean_absolute_error(y_test, y_pred)))"
      ],
      "metadata": {
        "colab": {
          "base_uri": "https://localhost:8080/"
        },
        "id": "SWq6r2zM3_qH",
        "outputId": "21fc8c2d-07de-4c4b-cad7-7480178a58ef"
      },
      "execution_count": null,
      "outputs": [
        {
          "output_type": "stream",
          "name": "stdout",
          "text": [
            "accquracy =  0.8981979306675009\n",
            "MSE =  0.0016980398093769827\n",
            "MAE = 0.023482833399313868\n"
          ]
        }
      ]
    },
    {
      "cell_type": "code",
      "source": [
        "plt.figure(figsize=(10,10))\n",
        "plt.scatter(y_test, y_pred, c='green')\n",
        "\n",
        "\n",
        "p1 = max(max(y_pred), max(y_test))\n",
        "p2 = min(min(y_pred), min(y_test))\n",
        "plt.plot([p1, p2], [p1, p2], 'b-')\n",
        "plt.xlabel('Test Values', fontsize=15)\n",
        "plt.ylabel('Predictions', fontsize=15)\n",
        "plt.axis('equal')\n",
        "plt.show()"
      ],
      "metadata": {
        "colab": {
          "base_uri": "https://localhost:8080/",
          "height": 611
        },
        "id": "5Y5qr3V861b8",
        "outputId": "42059a0d-11e6-4b16-bce0-927c91549c3f"
      },
      "execution_count": null,
      "outputs": [
        {
          "output_type": "display_data",
          "data": {
            "text/plain": [
              "<Figure size 720x720 with 1 Axes>"
            ],
            "image/png": "[encoded data removed]"
          },
          "metadata": {
            "needs_background": "light"
          }
        }
      ]
    },
    {
      "cell_type": "markdown",
      "source": [
        "Support vector machine"
      ],
      "metadata": {
        "id": "jsBwGR5P6CJv"
      }
    },
    {
      "cell_type": "code",
      "source": [
        "# independent and dependent variables\n",
        "X = df[['region', 'type', 'sqfeet', 'beds', 'baths', 'cats_allowed',\n",
        "       'dogs_allowed', 'smoking_allowed', 'wheelchair_access',\n",
        "       'electric_vehicle_charge', 'comes_furnished', 'laundry_options',\n",
        "       'parking_options', 'lat', 'long', 'state', 'bba', 'apb', 'b_a','b_b', 'apbth','ppa']]\n",
        "y= df[['price']]"
      ],
      "metadata": {
        "id": "_hWyXvqm4THQ"
      },
      "execution_count": null,
      "outputs": []
    },
    {
      "cell_type": "code",
      "source": [
        "from sklearn.model_selection import train_test_split\n",
        "from sklearn.preprocessing import StandardScaler\n",
        "\n",
        "X_train, X_test, y_train, y_test = train_test_split(X, y, test_size=0.20, random_state=0) # 80% training and 20% test\n",
        "\n",
        "# Feature Scaling\n",
        "\n",
        "# sc_X = StandardScaler()\n",
        "# X_train = sc_X.fit_transform(X_train)\n",
        "# X_test = sc_X.transform(X_test)"
      ],
      "metadata": {
        "id": "-7Bz-ZPa4trN"
      },
      "execution_count": null,
      "outputs": []
    },
    {
      "cell_type": "code",
      "source": [
        "from sklearn.preprocessing import MinMaxScaler\n",
        "scaler = MinMaxScaler((0,1))\n",
        "X_train = scaler.fit_transform(X_train)\n",
        "X_test = scaler.transform(X_test)\n",
        "\n",
        "y_train = scaler.fit_transform(y_train)\n",
        "y_test = scaler.transform(y_test)"
      ],
      "metadata": {
        "id": "e_z9gJvtZIAa"
      },
      "execution_count": null,
      "outputs": []
    },
    {
      "cell_type": "code",
      "source": [
        "from sklearn.svm import SVR\n",
        "from sklearn.model_selection import GridSearchCV\n",
        "\n",
        "reg = SVR()\n",
        "param_grid = {'kernel': ['linear', 'poly', 'rbf']}\n",
        "grid = GridSearchCV(reg, param_grid, cv=5)\n",
        "grid.fit(X_train, np.ravel(y_train,order='C'))\n",
        "\n",
        "print(\"Best parameters: \", grid.best_params_)\n",
        "print(\"Best score: \", grid.best_score_)"
      ],
      "metadata": {
        "colab": {
          "base_uri": "https://localhost:8080/"
        },
        "id": "JXupVTS-aHEp",
        "outputId": "bcf08286-c638-4262-87e0-8818df6c65a1"
      },
      "execution_count": null,
      "outputs": [
        {
          "output_type": "stream",
          "name": "stdout",
          "text": [
            "Best parameters:  {'kernel': 'rbf'}\n",
            "Best score:  0.9109377668857034\n"
          ]
        }
      ]
    },
    {
      "cell_type": "code",
      "source": [
        "from sklearn.svm import SVR\n",
        "\n",
        "classifier = SVR(kernel='rbf')\n",
        "classifier.fit(X_train, y_train)\n",
        "\n",
        "# Predicting the Test Set Results\n",
        "\n",
        "y_pred = classifier.predict(X_test)"
      ],
      "metadata": {
        "colab": {
          "base_uri": "https://localhost:8080/"
        },
        "id": "AZmMdtVk41aS",
        "outputId": "f1672641-2adf-4d25-958d-917fbc53705d"
      },
      "execution_count": null,
      "outputs": [
        {
          "output_type": "stream",
          "name": "stderr",
          "text": [
            "/usr/local/lib/python3.8/dist-packages/sklearn/utils/validation.py:993: DataConversionWarning: A column-vector y was passed when a 1d array was expected. Please change the shape of y to (n_samples, ), for example using ravel().\n",
            "  y = column_or_1d(y, warn=True)\n"
          ]
        }
      ]
    },
    {
      "cell_type": "code",
      "source": [
        "from sklearn.metrics import r2_score\n",
        "from sklearn.metrics import mean_squared_error\n",
        "\n",
        "# accuracy score \n",
        "\n",
        "score=r2_score(y_test,y_pred)\n",
        "print('accquracy = ',score)\n",
        "mse=mean_squared_error(y_test,y_pred)\n",
        "print('MSE = ',mse)\n",
        "from sklearn.metrics import mean_absolute_error \n",
        "print(\"MAE = \" + str(mean_absolute_error(y_test, y_pred)))"
      ],
      "metadata": {
        "colab": {
          "base_uri": "https://localhost:8080/"
        },
        "id": "3tc6fKZ-459n",
        "outputId": "56b6246e-60ea-48ba-9454-6714cdf8f520"
      },
      "execution_count": null,
      "outputs": [
        {
          "output_type": "stream",
          "name": "stdout",
          "text": [
            "accquracy =  0.9173179470748447\n",
            "MSE =  0.0014505940801580494\n",
            "MAE = 0.028970658621165952\n"
          ]
        }
      ]
    },
    {
      "cell_type": "code",
      "source": [
        "import matplotlib.pyplot as plt\n",
        "plt.figure(figsize=(10,10))\n",
        "plt.scatter(y_test, y_pred, c='green')\n",
        "\n",
        "\n",
        "p1 = max(max(y_pred), max(y_test))\n",
        "p2 = min(min(y_pred), min(y_test))\n",
        "plt.plot([p1, p2], [p1, p2], 'b-')\n",
        "plt.xlabel('Test Values', fontsize=15)\n",
        "plt.ylabel('Predictions', fontsize=15)\n",
        "plt.axis('equal')\n",
        "plt.show()"
      ],
      "metadata": {
        "colab": {
          "base_uri": "https://localhost:8080/",
          "height": 666
        },
        "id": "5Yld6_VN6V-q",
        "outputId": "19010d34-c972-4211-dd32-f43c507ad48b"
      },
      "execution_count": null,
      "outputs": [
        {
          "output_type": "stream",
          "name": "stderr",
          "text": [
            "/usr/local/lib/python3.8/dist-packages/numpy/core/shape_base.py:65: VisibleDeprecationWarning: Creating an ndarray from ragged nested sequences (which is a list-or-tuple of lists-or-tuples-or ndarrays with different lengths or shapes) is deprecated. If you meant to do this, you must specify 'dtype=object' when creating the ndarray.\n",
            "  ary = asanyarray(ary)\n"
          ]
        },
        {
          "output_type": "display_data",
          "data": {
            "text/plain": [
              "<Figure size 720x720 with 1 Axes>"
            ],
            "image/png": "[encoded data removed]"
          },
          "metadata": {
            "needs_background": "light"
          }
        }
      ]
    },
    {
      "cell_type": "markdown",
      "source": [
        "Random forest"
      ],
      "metadata": {
        "id": "0e1vYn9D7HA-"
      }
    },
    {
      "cell_type": "code",
      "source": [
        "x=df[['sqfeet', 'beds', 'baths', 'smoking_allowed','laundry_options','parking_options','ppa','long','state','bba','apb','b_a','b_b','apbth','comes_furnished','electric_vehicle_charge','wheelchair_access','dogs_allowed','region','type','cats_allowed','dogs_allowed','lat']] \n",
        "y=df[['price']]"
      ],
      "metadata": {
        "id": "1ozGHrwY6aLI"
      },
      "execution_count": null,
      "outputs": []
    },
    {
      "cell_type": "code",
      "source": [
        "#splitting data\n",
        "from sklearn.model_selection import train_test_split\n",
        "X_train, X_test, y_train, y_test = train_test_split(x, y, test_size=0.2, random_state=42) # 80% training and 20% test"
      ],
      "metadata": {
        "id": "1prXq6PX7PuR"
      },
      "execution_count": null,
      "outputs": []
    },
    {
      "cell_type": "code",
      "source": [
        "from sklearn.preprocessing import MinMaxScaler\n",
        "scaler = MinMaxScaler((0,1))\n",
        "X_train = scaler.fit_transform(X_train)\n",
        "X_test = scaler.transform(X_test)\n",
        "\n",
        "y_train = scaler.fit_transform(y_train)\n",
        "y_test = scaler.transform(y_test)"
      ],
      "metadata": {
        "id": "l9IOk7QWk3yZ"
      },
      "execution_count": null,
      "outputs": []
    },
    {
      "cell_type": "code",
      "source": [
        "# Hyperparameter tunning\n",
        "\n",
        "# parameters\n",
        "n_estimators = [100] # number of trees\n",
        "max_features = ['auto', 'sqrt'] # number of features\n",
        "max_depth = [10] # maximum number of levels allowed in each decision tree\n",
        "min_samples_split = [2,4, 6, 8, 10] # minimum sample number to split a node\n",
        "min_samples_leaf = [1,2, 3, 4] # minimum sample number that can be stored in a leaf node\n",
        "bootstrap = [True, False] # method used to sample data points\n",
        "\n",
        "random_parameteres = {\n",
        "    'n_estimators': n_estimators,\n",
        "    'max_features': max_features,\n",
        "    'max_depth': max_depth,\n",
        "    'min_samples_split': min_samples_split,\n",
        "    'min_samples_leaf': min_samples_leaf,\n",
        "    'bootstrap': bootstrap}"
      ],
      "metadata": {
        "id": "O8m4UV8r7S35"
      },
      "execution_count": null,
      "outputs": []
    },
    {
      "cell_type": "code",
      "source": [
        "from sklearn.ensemble import RandomForestRegressor\n",
        "rfr = RandomForestRegressor()\n",
        "\n",
        "# searching for hyperparameters \n",
        "from sklearn.model_selection import RandomizedSearchCV\n",
        "rfr_random_search = RandomizedSearchCV(estimator = rfr,param_distributions = random_parameteres,\n",
        "               n_iter = 10, cv = 3, verbose=2, random_state=35, n_jobs = -1)"
      ],
      "metadata": {
        "id": "wrQLOV_V7fHx"
      },
      "execution_count": null,
      "outputs": []
    },
    {
      "cell_type": "code",
      "source": [
        "rfr_random_search.fit(X_train, np.ravel(y_train,order='C'))"
      ],
      "metadata": {
        "colab": {
          "base_uri": "https://localhost:8080/"
        },
        "id": "eERyqa6F7mqk",
        "outputId": "30a05e8d-0075-4c0a-88bd-28d4ac55fb40"
      },
      "execution_count": null,
      "outputs": [
        {
          "output_type": "stream",
          "name": "stdout",
          "text": [
            "Fitting 3 folds for each of 10 candidates, totalling 30 fits\n"
          ]
        },
        {
          "output_type": "execute_result",
          "data": {
            "text/plain": [
              "RandomizedSearchCV(cv=3, estimator=RandomForestRegressor(), n_jobs=-1,\n",
              "                   param_distributions={'bootstrap': [True, False],\n",
              "                                        'max_depth': [10],\n",
              "                                        'max_features': ['auto', 'sqrt'],\n",
              "                                        'min_samples_leaf': [1, 2, 3, 4],\n",
              "                                        'min_samples_split': [2, 4, 6, 8, 10],\n",
              "                                        'n_estimators': [100]},\n",
              "                   random_state=35, verbose=2)"
            ]
          },
          "metadata": {},
          "execution_count": 63
        }
      ]
    },
    {
      "cell_type": "code",
      "source": [
        "print ('Best Parameters: ', rfr_random_search.best_params_)"
      ],
      "metadata": {
        "colab": {
          "base_uri": "https://localhost:8080/"
        },
        "id": "gq_gqawJ7pCz",
        "outputId": "4c84173d-97cd-4789-f784-58121bbef601"
      },
      "execution_count": null,
      "outputs": [
        {
          "output_type": "stream",
          "name": "stdout",
          "text": [
            "Best Parameters:  {'n_estimators': 100, 'min_samples_split': 4, 'min_samples_leaf': 2, 'max_features': 'auto', 'max_depth': 10, 'bootstrap': False}\n"
          ]
        }
      ]
    },
    {
      "cell_type": "code",
      "source": [
        "randmf = RandomForestRegressor(n_estimators = 100, min_samples_split = 4, min_samples_leaf= 2, max_features = 'auto', max_depth= 10, bootstrap= False) \n",
        "randmf.fit( X_train, np.ravel(y_train,order='C')) "
      ],
      "metadata": {
        "colab": {
          "base_uri": "https://localhost:8080/"
        },
        "id": "U2fhWBzJ8nU2",
        "outputId": "be117687-e4d6-4fe0-d1c4-77b81c642bd7"
      },
      "execution_count": null,
      "outputs": [
        {
          "output_type": "execute_result",
          "data": {
            "text/plain": [
              "RandomForestRegressor(bootstrap=False, max_depth=10, min_samples_leaf=2,\n",
              "                      min_samples_split=4)"
            ]
          },
          "metadata": {},
          "execution_count": 69
        }
      ]
    },
    {
      "cell_type": "code",
      "source": [
        "y_pred =  randmf.predict(  X_test )"
      ],
      "metadata": {
        "id": "Eb9g6ray8qlq"
      },
      "execution_count": null,
      "outputs": []
    },
    {
      "cell_type": "code",
      "source": [
        "from sklearn.metrics import r2_score\n",
        "from sklearn.metrics import mean_squared_error\n",
        "\n",
        "# accuracy score \n",
        "\n",
        "score=r2_score(y_test,y_pred)\n",
        "print('accquracy = ',score)\n",
        "mse=mean_squared_error(y_test,y_pred)\n",
        "print('MSE = ',mse)\n",
        "from sklearn.metrics import mean_absolute_error \n",
        "print(\"MAE = \" + str(mean_absolute_error(y_test, y_pred)))"
      ],
      "metadata": {
        "colab": {
          "base_uri": "https://localhost:8080/"
        },
        "id": "ZUrfWYv39cNC",
        "outputId": "26283bf1-6dab-407f-d956-ed6458fa54a1"
      },
      "execution_count": null,
      "outputs": [
        {
          "output_type": "stream",
          "name": "stdout",
          "text": [
            "accquracy =  0.9935538581487139\n",
            "MSE =  0.00011168068003693669\n",
            "MAE = 0.005805415179282897\n"
          ]
        }
      ]
    },
    {
      "cell_type": "code",
      "source": [
        "plt.figure(figsize=(10,10))\n",
        "plt.scatter(y_test, y_pred, c='green')\n",
        "\n",
        "\n",
        "p1 = max(max(y_pred), max(y_test))\n",
        "p2 = min(min(y_pred), min(y_test))\n",
        "plt.plot([p1, p2], [p1, p2], 'b-')\n",
        "plt.xlabel('Test Values', fontsize=15)\n",
        "plt.ylabel('Predictions', fontsize=15)\n",
        "plt.axis('equal')\n",
        "plt.show()"
      ],
      "metadata": {
        "colab": {
          "base_uri": "https://localhost:8080/",
          "height": 666
        },
        "id": "utqxVo0O9qSF",
        "outputId": "cfe292a5-177d-46a3-fd78-09c8bb279d05"
      },
      "execution_count": null,
      "outputs": [
        {
          "output_type": "stream",
          "name": "stderr",
          "text": [
            "/usr/local/lib/python3.8/dist-packages/numpy/core/shape_base.py:65: VisibleDeprecationWarning: Creating an ndarray from ragged nested sequences (which is a list-or-tuple of lists-or-tuples-or ndarrays with different lengths or shapes) is deprecated. If you meant to do this, you must specify 'dtype=object' when creating the ndarray.\n",
            "  ary = asanyarray(ary)\n"
          ]
        },
        {
          "output_type": "display_data",
          "data": {
            "text/plain": [
              "<Figure size 720x720 with 1 Axes>"
            ],
            "image/png": "[encoded data removed]"
          },
          "metadata": {
            "needs_background": "light"
          }
        }
      ]
    },
    {
      "cell_type": "markdown",
      "source": [
        "nueral network"
      ],
      "metadata": {
        "id": "9cSbFJ_TARDj"
      }
    },
    {
      "cell_type": "code",
      "source": [
        "X = df[['region', 'type', 'sqfeet', 'beds', 'baths', 'cats_allowed',\n",
        "       'dogs_allowed', 'smoking_allowed', 'wheelchair_access',\n",
        "       'electric_vehicle_charge', 'comes_furnished', 'laundry_options',\n",
        "       'parking_options', 'lat', 'long', 'state', 'bba', 'apb', 'b_a','b_b', 'apbth','ppa']]\n",
        "y= df[['price']]"
      ],
      "metadata": {
        "id": "yICwok3b9tAB"
      },
      "execution_count": null,
      "outputs": []
    },
    {
      "cell_type": "code",
      "source": [
        "#splitting dataset into training and testing dataset\n",
        "from sklearn.model_selection import train_test_split\n",
        "X_train, X_test, y_train, y_test = train_test_split(X, y, test_size = 0.2, random_state = 0)"
      ],
      "metadata": {
        "id": "GM7hIP15AY6V"
      },
      "execution_count": null,
      "outputs": []
    },
    {
      "cell_type": "code",
      "source": [
        "# Transform features by scaling each feature to a range between 0 and 1\n",
        "\n",
        "from sklearn.preprocessing import MinMaxScaler\n",
        "scaler = MinMaxScaler((0,1))\n",
        "X_train = scaler.fit_transform(X_train)\n",
        "X_test = scaler.transform(X_test)\n",
        "\n",
        "y_train = scaler.fit_transform(y_train)\n",
        "y_test = scaler.transform(y_test)"
      ],
      "metadata": {
        "id": "z64CH-YSAcRd"
      },
      "execution_count": null,
      "outputs": []
    },
    {
      "cell_type": "code",
      "source": [
        "# number of nodes in each layer is the multiple of 2 \n",
        "\n",
        "from tensorflow import keras\n",
        "def buildModel(optimizer):\n",
        "    # Initialising the ANN\n",
        "    classifier = keras.Sequential()\n",
        "    \n",
        "    # Adding the input layer and the first hidden layer\n",
        "    classifier.add(keras.layers.Dense(units = 64, activation = 'relu'))\n",
        "    \n",
        "    # Adding the second and third hidden layer\n",
        "    classifier.add(keras.layers.Dense(units = 32, activation = 'relu'))\n",
        "    classifier.add(keras.layers.Dense(units = 16, activation = 'relu'))\n",
        "    \n",
        "    # Adding the output layer with single output\n",
        "    classifier.add(keras.layers.Dense(units = 1, activation = 'linear'))\n",
        "    \n",
        "    \n",
        "    classifier.compile(loss='mean_absolute_error', optimizer=optimizer, metrics=['mean_absolute_error'])\n",
        "    \n",
        "    return classifier"
      ],
      "metadata": {
        "id": "3cKEUob9AfId"
      },
      "execution_count": null,
      "outputs": []
    },
    {
      "cell_type": "code",
      "source": [
        "# Grid Search\n",
        "\n",
        "from sklearn.model_selection import GridSearchCV \n",
        "from tensorflow.keras.wrappers.scikit_learn import KerasRegressor\n",
        "\n",
        "#hyperparameter tunning\n",
        "reg = KerasRegressor(build_fn = buildModel)\n",
        "parameters = {'batch_size': [128],                  #\n",
        "              'epochs': [100, 150],\n",
        "              'optimizer': ['adam', 'rmsprop']}\n",
        "\n",
        "# cross validation of 3\n",
        "grid_search = GridSearchCV(estimator = reg,\n",
        "                           param_grid = parameters,\n",
        "                           scoring = 'neg_mean_absolute_error',\n",
        "                           cv = 3)\n",
        "grid_search = grid_search.fit(X_train, y_train, verbose = 0)"
      ],
      "metadata": {
        "colab": {
          "base_uri": "https://localhost:8080/"
        },
        "id": "zhjLgTfoAnVU",
        "outputId": "a5fc9c37-6978-48ae-b4c6-e2910e028c13"
      },
      "execution_count": null,
      "outputs": [
        {
          "output_type": "stream",
          "name": "stderr",
          "text": [
            "<ipython-input-77-b9de73b0c50b>:7: DeprecationWarning: KerasRegressor is deprecated, use Sci-Keras (https://github.com/adriangb/scikeras) instead. See https://www.adriangb.com/scikeras/stable/migration.html for help migrating.\n",
            "  reg = KerasRegressor(build_fn = buildModel)\n"
          ]
        },
        {
          "output_type": "stream",
          "name": "stdout",
          "text": [
            "99/99 [==============================] - 0s 1ms/step\n",
            "99/99 [==============================] - 0s 1ms/step\n",
            "99/99 [==============================] - 0s 1ms/step\n",
            "99/99 [==============================] - 0s 1ms/step\n",
            "99/99 [==============================] - 0s 1ms/step\n",
            "99/99 [==============================] - 0s 1ms/step\n",
            "99/99 [==============================] - 0s 1ms/step\n",
            "99/99 [==============================] - 0s 1ms/step\n",
            "99/99 [==============================] - 0s 1ms/step\n",
            "99/99 [==============================] - 0s 1ms/step\n",
            "99/99 [==============================] - 0s 1ms/step\n",
            "99/99 [==============================] - 0s 1ms/step\n"
          ]
        }
      ]
    },
    {
      "cell_type": "code",
      "source": [
        "best_parameters = grid_search.best_params_\n",
        "best_score = grid_search.best_score_\n",
        "\n",
        "print(\"Best Parameters: \" + str(best_parameters))"
      ],
      "metadata": {
        "colab": {
          "base_uri": "https://localhost:8080/"
        },
        "id": "b10ATR7uAvbT",
        "outputId": "aef1acf5-67cd-47a0-adac-79b82c26ce48"
      },
      "execution_count": null,
      "outputs": [
        {
          "output_type": "stream",
          "name": "stdout",
          "text": [
            "Best Parameters: {'batch_size': 128, 'epochs': 150, 'optimizer': 'adam'}\n"
          ]
        }
      ]
    },
    {
      "cell_type": "code",
      "source": [
        "bestClassifier = buildModel('adam')\n",
        "HistoryBest = bestClassifier.fit(x = X_train, y = y_train, batch_size = 128, epochs =150 , verbose = 0)"
      ],
      "metadata": {
        "id": "kVi284_UA55t"
      },
      "execution_count": null,
      "outputs": []
    },
    {
      "cell_type": "code",
      "source": [
        "y_pred = bestClassifier.predict(X_test)"
      ],
      "metadata": {
        "colab": {
          "base_uri": "https://localhost:8080/"
        },
        "id": "__QUqNkWA83j",
        "outputId": "3ef343ea-132a-4c8a-ebf0-3bd6c3540f9c"
      },
      "execution_count": null,
      "outputs": [
        {
          "output_type": "stream",
          "name": "stdout",
          "text": [
            "295/295 [==============================] - 0s 1ms/step\n"
          ]
        }
      ]
    },
    {
      "cell_type": "code",
      "source": [
        "from sklearn.metrics import r2_score\n",
        "from sklearn.metrics import mean_squared_error\n",
        "\n",
        "# accuracy score \n",
        "\n",
        "score=r2_score(y_test,y_pred)\n",
        "print('accquracy = ',score)\n",
        "mse=mean_squared_error(y_test,y_pred)\n",
        "print('MSE = ',mse)\n",
        "from sklearn.metrics import mean_absolute_error \n",
        "print(\"MAE = \" + str(mean_absolute_error(y_test, y_pred)))"
      ],
      "metadata": {
        "colab": {
          "base_uri": "https://localhost:8080/"
        },
        "id": "aWkUgFGtBAz8",
        "outputId": "e91f1359-268e-4542-e7d1-a445740e7046"
      },
      "execution_count": null,
      "outputs": [
        {
          "output_type": "stream",
          "name": "stdout",
          "text": [
            "accquracy =  0.9996903381958632\n",
            "MSE =  5.432782133972431e-06\n",
            "MAE = 0.0013580613184214435\n"
          ]
        }
      ]
    },
    {
      "cell_type": "code",
      "source": [
        "plt.figure(figsize=(10,10))\n",
        "plt.scatter(y_test, y_pred, c='green')\n",
        "\n",
        "\n",
        "p1 = max(max(y_pred), max(y_test))\n",
        "p2 = min(min(y_pred), min(y_test))\n",
        "plt.plot([p1, p2], [p1, p2], 'b-')\n",
        "plt.xlabel('Test Values', fontsize=15)\n",
        "plt.ylabel('Predictions', fontsize=15)\n",
        "plt.axis('equal')\n",
        "plt.show()"
      ],
      "metadata": {
        "colab": {
          "base_uri": "https://localhost:8080/",
          "height": 611
        },
        "id": "FezBK1pmBDtP",
        "outputId": "242bf770-7587-41bd-dd06-9183e99070a1"
      },
      "execution_count": null,
      "outputs": [
        {
          "output_type": "display_data",
          "data": {
            "text/plain": [
              "<Figure size 720x720 with 1 Axes>"
            ],
            "image/png": "[encoded data removed]"
          },
          "metadata": {
            "needs_background": "light"
          }
        }
      ]
    },
    {
      "cell_type": "code",
      "source": [],
      "metadata": {
        "id": "Q3RNOLJrEM5u"
      },
      "execution_count": null,
      "outputs": []
    }
  ]
}